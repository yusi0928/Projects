{
 "cells": [
  {
   "cell_type": "markdown",
   "metadata": {},
   "source": [
    "# Data Science test case part 2"
   ]
  },
  {
   "cell_type": "markdown",
   "metadata": {},
   "source": [
    "### Task: Create a prediction of how much it transships (total of load & discharge activities) per cargo type. "
   ]
  },
  {
   "cell_type": "code",
   "execution_count": 14,
   "metadata": {},
   "outputs": [
    {
     "data": {
      "text/html": [
       "<div>\n",
       "<style scoped>\n",
       "    .dataframe tbody tr th:only-of-type {\n",
       "        vertical-align: middle;\n",
       "    }\n",
       "\n",
       "    .dataframe tbody tr th {\n",
       "        vertical-align: top;\n",
       "    }\n",
       "\n",
       "    .dataframe thead th {\n",
       "        text-align: right;\n",
       "    }\n",
       "</style>\n",
       "<table border=\"1\" class=\"dataframe\">\n",
       "  <thead>\n",
       "    <tr style=\"text-align: right;\">\n",
       "      <th></th>\n",
       "      <th>eta</th>\n",
       "      <th>ata</th>\n",
       "      <th>atd</th>\n",
       "      <th>vesseldwt</th>\n",
       "      <th>vesseltype</th>\n",
       "      <th>discharge1</th>\n",
       "      <th>load1</th>\n",
       "      <th>discharge2</th>\n",
       "      <th>load2</th>\n",
       "      <th>discharge3</th>\n",
       "      <th>...</th>\n",
       "      <th>load4</th>\n",
       "      <th>stevedorenames</th>\n",
       "      <th>hasnohamis</th>\n",
       "      <th>earliesteta</th>\n",
       "      <th>latesteta</th>\n",
       "      <th>traveltype</th>\n",
       "      <th>previousportid</th>\n",
       "      <th>nextportid</th>\n",
       "      <th>isremarkable</th>\n",
       "      <th>vesselid</th>\n",
       "    </tr>\n",
       "  </thead>\n",
       "  <tbody>\n",
       "    <tr>\n",
       "      <th>0</th>\n",
       "      <td>2017-09-19 00:00:00+00</td>\n",
       "      <td>2017-09-19 00:00:00+00</td>\n",
       "      <td>2017-09-22 00:00:00+00</td>\n",
       "      <td>109290.0</td>\n",
       "      <td>5</td>\n",
       "      <td>0</td>\n",
       "      <td>0</td>\n",
       "      <td>0</td>\n",
       "      <td>0</td>\n",
       "      <td>90173</td>\n",
       "      <td>...</td>\n",
       "      <td>0</td>\n",
       "      <td>Stevedore_104</td>\n",
       "      <td>NaN</td>\n",
       "      <td>2017-09-19 00:00:00+00</td>\n",
       "      <td>2017-09-19 00:00:00+00</td>\n",
       "      <td>ARRIVAL</td>\n",
       "      <td>981</td>\n",
       "      <td>731</td>\n",
       "      <td>f</td>\n",
       "      <td>2242</td>\n",
       "    </tr>\n",
       "    <tr>\n",
       "      <th>1</th>\n",
       "      <td>2017-10-02 00:00:00+00</td>\n",
       "      <td>2017-10-02 00:00:00+00</td>\n",
       "      <td>2017-10-03 00:00:00+00</td>\n",
       "      <td>67170.0</td>\n",
       "      <td>3</td>\n",
       "      <td>0</td>\n",
       "      <td>0</td>\n",
       "      <td>0</td>\n",
       "      <td>0</td>\n",
       "      <td>0</td>\n",
       "      <td>...</td>\n",
       "      <td>0</td>\n",
       "      <td>Stevedore_109</td>\n",
       "      <td>NaN</td>\n",
       "      <td>2017-10-02 00:00:00+00</td>\n",
       "      <td>2017-10-02 00:00:00+00</td>\n",
       "      <td>ARRIVAL</td>\n",
       "      <td>19</td>\n",
       "      <td>15</td>\n",
       "      <td>f</td>\n",
       "      <td>5462</td>\n",
       "    </tr>\n",
       "    <tr>\n",
       "      <th>2</th>\n",
       "      <td>2017-09-30 00:00:00+00</td>\n",
       "      <td>2017-09-30 00:00:00+00</td>\n",
       "      <td>2017-10-01 00:00:00+00</td>\n",
       "      <td>67737.0</td>\n",
       "      <td>3</td>\n",
       "      <td>0</td>\n",
       "      <td>0</td>\n",
       "      <td>0</td>\n",
       "      <td>0</td>\n",
       "      <td>0</td>\n",
       "      <td>...</td>\n",
       "      <td>0</td>\n",
       "      <td>Stevedore_57</td>\n",
       "      <td>NaN</td>\n",
       "      <td>2017-09-30 00:00:00+00</td>\n",
       "      <td>2017-09-30 00:00:00+00</td>\n",
       "      <td>ARRIVAL</td>\n",
       "      <td>19</td>\n",
       "      <td>19</td>\n",
       "      <td>f</td>\n",
       "      <td>5251</td>\n",
       "    </tr>\n",
       "    <tr>\n",
       "      <th>3</th>\n",
       "      <td>2017-10-02 00:00:00+00</td>\n",
       "      <td>2017-10-02 00:00:00+00</td>\n",
       "      <td>2017-10-03 00:00:00+00</td>\n",
       "      <td>43600.0</td>\n",
       "      <td>3</td>\n",
       "      <td>0</td>\n",
       "      <td>0</td>\n",
       "      <td>0</td>\n",
       "      <td>0</td>\n",
       "      <td>0</td>\n",
       "      <td>...</td>\n",
       "      <td>0</td>\n",
       "      <td>Stevedore_57</td>\n",
       "      <td>NaN</td>\n",
       "      <td>2017-10-02 00:00:00+00</td>\n",
       "      <td>2017-10-02 00:00:00+00</td>\n",
       "      <td>ARRIVAL</td>\n",
       "      <td>15</td>\n",
       "      <td>18</td>\n",
       "      <td>f</td>\n",
       "      <td>5268</td>\n",
       "    </tr>\n",
       "    <tr>\n",
       "      <th>4</th>\n",
       "      <td>2017-10-02 00:00:00+00</td>\n",
       "      <td>2017-10-02 00:00:00+00</td>\n",
       "      <td>2017-10-02 00:00:00+00</td>\n",
       "      <td>9231.0</td>\n",
       "      <td>3</td>\n",
       "      <td>0</td>\n",
       "      <td>0</td>\n",
       "      <td>0</td>\n",
       "      <td>0</td>\n",
       "      <td>0</td>\n",
       "      <td>...</td>\n",
       "      <td>0</td>\n",
       "      <td>Stevedore_98</td>\n",
       "      <td>NaN</td>\n",
       "      <td>2017-10-02 00:00:00+00</td>\n",
       "      <td>2017-10-02 00:00:00+00</td>\n",
       "      <td>ARRIVAL</td>\n",
       "      <td>74</td>\n",
       "      <td>27</td>\n",
       "      <td>f</td>\n",
       "      <td>5504</td>\n",
       "    </tr>\n",
       "  </tbody>\n",
       "</table>\n",
       "<p>5 rows × 22 columns</p>\n",
       "</div>"
      ],
      "text/plain": [
       "                      eta                     ata                     atd  \\\n",
       "0  2017-09-19 00:00:00+00  2017-09-19 00:00:00+00  2017-09-22 00:00:00+00   \n",
       "1  2017-10-02 00:00:00+00  2017-10-02 00:00:00+00  2017-10-03 00:00:00+00   \n",
       "2  2017-09-30 00:00:00+00  2017-09-30 00:00:00+00  2017-10-01 00:00:00+00   \n",
       "3  2017-10-02 00:00:00+00  2017-10-02 00:00:00+00  2017-10-03 00:00:00+00   \n",
       "4  2017-10-02 00:00:00+00  2017-10-02 00:00:00+00  2017-10-02 00:00:00+00   \n",
       "\n",
       "   vesseldwt  vesseltype  discharge1  load1  discharge2  load2  discharge3  \\\n",
       "0   109290.0           5           0      0           0      0       90173   \n",
       "1    67170.0           3           0      0           0      0           0   \n",
       "2    67737.0           3           0      0           0      0           0   \n",
       "3    43600.0           3           0      0           0      0           0   \n",
       "4     9231.0           3           0      0           0      0           0   \n",
       "\n",
       "   ...  load4  stevedorenames  hasnohamis             earliesteta  \\\n",
       "0  ...      0   Stevedore_104         NaN  2017-09-19 00:00:00+00   \n",
       "1  ...      0   Stevedore_109         NaN  2017-10-02 00:00:00+00   \n",
       "2  ...      0    Stevedore_57         NaN  2017-09-30 00:00:00+00   \n",
       "3  ...      0    Stevedore_57         NaN  2017-10-02 00:00:00+00   \n",
       "4  ...      0    Stevedore_98         NaN  2017-10-02 00:00:00+00   \n",
       "\n",
       "                latesteta traveltype previousportid nextportid  isremarkable  \\\n",
       "0  2017-09-19 00:00:00+00    ARRIVAL            981        731             f   \n",
       "1  2017-10-02 00:00:00+00    ARRIVAL             19         15             f   \n",
       "2  2017-09-30 00:00:00+00    ARRIVAL             19         19             f   \n",
       "3  2017-10-02 00:00:00+00    ARRIVAL             15         18             f   \n",
       "4  2017-10-02 00:00:00+00    ARRIVAL             74         27             f   \n",
       "\n",
       "   vesselid  \n",
       "0      2242  \n",
       "1      5462  \n",
       "2      5251  \n",
       "3      5268  \n",
       "4      5504  \n",
       "\n",
       "[5 rows x 22 columns]"
      ]
     },
     "execution_count": 14,
     "metadata": {},
     "output_type": "execute_result"
    }
   ],
   "source": [
    "import pandas as pd\n",
    "import numpy as np\n",
    "\n",
    "data=pd.read_csv('/Users/abc/Desktop/wb-data-science-test/VesselData.csv')\n",
    "\n",
    "data.head()\n"
   ]
  },
  {
   "cell_type": "code",
   "execution_count": 2,
   "metadata": {},
   "outputs": [
    {
     "data": {
      "text/html": [
       "<div>\n",
       "<style scoped>\n",
       "    .dataframe tbody tr th:only-of-type {\n",
       "        vertical-align: middle;\n",
       "    }\n",
       "\n",
       "    .dataframe tbody tr th {\n",
       "        vertical-align: top;\n",
       "    }\n",
       "\n",
       "    .dataframe thead th {\n",
       "        text-align: right;\n",
       "    }\n",
       "</style>\n",
       "<table border=\"1\" class=\"dataframe\">\n",
       "  <thead>\n",
       "    <tr style=\"text-align: right;\">\n",
       "      <th></th>\n",
       "      <th>discharge1</th>\n",
       "      <th>load1</th>\n",
       "      <th>discharge2</th>\n",
       "      <th>load2</th>\n",
       "      <th>discharge3</th>\n",
       "      <th>load3</th>\n",
       "      <th>discharge4</th>\n",
       "      <th>load4</th>\n",
       "      <th>stevedorenames</th>\n",
       "      <th>hasnohamis</th>\n",
       "      <th>earliesteta</th>\n",
       "      <th>latesteta</th>\n",
       "      <th>traveltype</th>\n",
       "      <th>previousportid</th>\n",
       "      <th>nextportid</th>\n",
       "      <th>isremarkable</th>\n",
       "      <th>vesselid</th>\n",
       "    </tr>\n",
       "  </thead>\n",
       "  <tbody>\n",
       "    <tr>\n",
       "      <th>0</th>\n",
       "      <td>0</td>\n",
       "      <td>0</td>\n",
       "      <td>0</td>\n",
       "      <td>0</td>\n",
       "      <td>90173</td>\n",
       "      <td>0</td>\n",
       "      <td>0</td>\n",
       "      <td>0</td>\n",
       "      <td>Stevedore_104</td>\n",
       "      <td>NaN</td>\n",
       "      <td>2017-09-19 00:00:00+00</td>\n",
       "      <td>2017-09-19 00:00:00+00</td>\n",
       "      <td>ARRIVAL</td>\n",
       "      <td>981</td>\n",
       "      <td>731</td>\n",
       "      <td>f</td>\n",
       "      <td>2242</td>\n",
       "    </tr>\n",
       "    <tr>\n",
       "      <th>1</th>\n",
       "      <td>0</td>\n",
       "      <td>0</td>\n",
       "      <td>0</td>\n",
       "      <td>0</td>\n",
       "      <td>0</td>\n",
       "      <td>0</td>\n",
       "      <td>0</td>\n",
       "      <td>0</td>\n",
       "      <td>Stevedore_109</td>\n",
       "      <td>NaN</td>\n",
       "      <td>2017-10-02 00:00:00+00</td>\n",
       "      <td>2017-10-02 00:00:00+00</td>\n",
       "      <td>ARRIVAL</td>\n",
       "      <td>19</td>\n",
       "      <td>15</td>\n",
       "      <td>f</td>\n",
       "      <td>5462</td>\n",
       "    </tr>\n",
       "    <tr>\n",
       "      <th>2</th>\n",
       "      <td>0</td>\n",
       "      <td>0</td>\n",
       "      <td>0</td>\n",
       "      <td>0</td>\n",
       "      <td>0</td>\n",
       "      <td>0</td>\n",
       "      <td>0</td>\n",
       "      <td>0</td>\n",
       "      <td>Stevedore_57</td>\n",
       "      <td>NaN</td>\n",
       "      <td>2017-09-30 00:00:00+00</td>\n",
       "      <td>2017-09-30 00:00:00+00</td>\n",
       "      <td>ARRIVAL</td>\n",
       "      <td>19</td>\n",
       "      <td>19</td>\n",
       "      <td>f</td>\n",
       "      <td>5251</td>\n",
       "    </tr>\n",
       "    <tr>\n",
       "      <th>3</th>\n",
       "      <td>0</td>\n",
       "      <td>0</td>\n",
       "      <td>0</td>\n",
       "      <td>0</td>\n",
       "      <td>0</td>\n",
       "      <td>0</td>\n",
       "      <td>0</td>\n",
       "      <td>0</td>\n",
       "      <td>Stevedore_57</td>\n",
       "      <td>NaN</td>\n",
       "      <td>2017-10-02 00:00:00+00</td>\n",
       "      <td>2017-10-02 00:00:00+00</td>\n",
       "      <td>ARRIVAL</td>\n",
       "      <td>15</td>\n",
       "      <td>18</td>\n",
       "      <td>f</td>\n",
       "      <td>5268</td>\n",
       "    </tr>\n",
       "    <tr>\n",
       "      <th>4</th>\n",
       "      <td>0</td>\n",
       "      <td>0</td>\n",
       "      <td>0</td>\n",
       "      <td>0</td>\n",
       "      <td>0</td>\n",
       "      <td>0</td>\n",
       "      <td>0</td>\n",
       "      <td>0</td>\n",
       "      <td>Stevedore_98</td>\n",
       "      <td>NaN</td>\n",
       "      <td>2017-10-02 00:00:00+00</td>\n",
       "      <td>2017-10-02 00:00:00+00</td>\n",
       "      <td>ARRIVAL</td>\n",
       "      <td>74</td>\n",
       "      <td>27</td>\n",
       "      <td>f</td>\n",
       "      <td>5504</td>\n",
       "    </tr>\n",
       "    <tr>\n",
       "      <th>...</th>\n",
       "      <td>...</td>\n",
       "      <td>...</td>\n",
       "      <td>...</td>\n",
       "      <td>...</td>\n",
       "      <td>...</td>\n",
       "      <td>...</td>\n",
       "      <td>...</td>\n",
       "      <td>...</td>\n",
       "      <td>...</td>\n",
       "      <td>...</td>\n",
       "      <td>...</td>\n",
       "      <td>...</td>\n",
       "      <td>...</td>\n",
       "      <td>...</td>\n",
       "      <td>...</td>\n",
       "      <td>...</td>\n",
       "      <td>...</td>\n",
       "    </tr>\n",
       "    <tr>\n",
       "      <th>8203</th>\n",
       "      <td>0</td>\n",
       "      <td>0</td>\n",
       "      <td>0</td>\n",
       "      <td>0</td>\n",
       "      <td>0</td>\n",
       "      <td>0</td>\n",
       "      <td>0</td>\n",
       "      <td>0</td>\n",
       "      <td>Stevedore_64</td>\n",
       "      <td>NaN</td>\n",
       "      <td>2017-11-02 00:00:00+00</td>\n",
       "      <td>2017-11-03 00:00:00+00</td>\n",
       "      <td>ARRIVAL</td>\n",
       "      <td>5</td>\n",
       "      <td>19</td>\n",
       "      <td>f</td>\n",
       "      <td>5681</td>\n",
       "    </tr>\n",
       "    <tr>\n",
       "      <th>8204</th>\n",
       "      <td>0</td>\n",
       "      <td>0</td>\n",
       "      <td>0</td>\n",
       "      <td>0</td>\n",
       "      <td>0</td>\n",
       "      <td>0</td>\n",
       "      <td>0</td>\n",
       "      <td>0</td>\n",
       "      <td>Stevedore_110,Stevedore_57,Stevedore_99,Steved...</td>\n",
       "      <td>NaN</td>\n",
       "      <td>2017-11-04 00:00:00+00</td>\n",
       "      <td>2017-11-05 00:00:00+00</td>\n",
       "      <td>SHIFT</td>\n",
       "      <td>391</td>\n",
       "      <td>102</td>\n",
       "      <td>f</td>\n",
       "      <td>4843</td>\n",
       "    </tr>\n",
       "    <tr>\n",
       "      <th>8205</th>\n",
       "      <td>0</td>\n",
       "      <td>0</td>\n",
       "      <td>0</td>\n",
       "      <td>0</td>\n",
       "      <td>0</td>\n",
       "      <td>0</td>\n",
       "      <td>3537</td>\n",
       "      <td>3051</td>\n",
       "      <td>Stevedore_89,Stevedore_79,Stevedore_75,Stevedo...</td>\n",
       "      <td>NaN</td>\n",
       "      <td>2017-11-07 00:00:00+00</td>\n",
       "      <td>2017-11-10 00:00:00+00</td>\n",
       "      <td>SHIFT</td>\n",
       "      <td>1043</td>\n",
       "      <td>19</td>\n",
       "      <td>f</td>\n",
       "      <td>3115</td>\n",
       "    </tr>\n",
       "    <tr>\n",
       "      <th>8206</th>\n",
       "      <td>0</td>\n",
       "      <td>0</td>\n",
       "      <td>0</td>\n",
       "      <td>0</td>\n",
       "      <td>0</td>\n",
       "      <td>0</td>\n",
       "      <td>0</td>\n",
       "      <td>0</td>\n",
       "      <td>Stevedore_46</td>\n",
       "      <td>NaN</td>\n",
       "      <td>2017-11-10 00:00:00+00</td>\n",
       "      <td>2017-11-10 00:00:00+00</td>\n",
       "      <td>ARRIVAL</td>\n",
       "      <td>54</td>\n",
       "      <td>71</td>\n",
       "      <td>f</td>\n",
       "      <td>4623</td>\n",
       "    </tr>\n",
       "    <tr>\n",
       "      <th>8207</th>\n",
       "      <td>0</td>\n",
       "      <td>0</td>\n",
       "      <td>0</td>\n",
       "      <td>0</td>\n",
       "      <td>0</td>\n",
       "      <td>0</td>\n",
       "      <td>0</td>\n",
       "      <td>0</td>\n",
       "      <td>Stevedore_28,Stevedore_99,Stevedore_57,Stevedo...</td>\n",
       "      <td>NaN</td>\n",
       "      <td>2017-11-08 00:00:00+00</td>\n",
       "      <td>2017-11-10 00:00:00+00</td>\n",
       "      <td>SHIFT</td>\n",
       "      <td>1060</td>\n",
       "      <td>14</td>\n",
       "      <td>f</td>\n",
       "      <td>4785</td>\n",
       "    </tr>\n",
       "  </tbody>\n",
       "</table>\n",
       "<p>8208 rows × 17 columns</p>\n",
       "</div>"
      ],
      "text/plain": [
       "      discharge1  load1  discharge2  load2  discharge3  load3  discharge4  \\\n",
       "0              0      0           0      0       90173      0           0   \n",
       "1              0      0           0      0           0      0           0   \n",
       "2              0      0           0      0           0      0           0   \n",
       "3              0      0           0      0           0      0           0   \n",
       "4              0      0           0      0           0      0           0   \n",
       "...          ...    ...         ...    ...         ...    ...         ...   \n",
       "8203           0      0           0      0           0      0           0   \n",
       "8204           0      0           0      0           0      0           0   \n",
       "8205           0      0           0      0           0      0        3537   \n",
       "8206           0      0           0      0           0      0           0   \n",
       "8207           0      0           0      0           0      0           0   \n",
       "\n",
       "      load4                                     stevedorenames  hasnohamis  \\\n",
       "0         0                                      Stevedore_104         NaN   \n",
       "1         0                                      Stevedore_109         NaN   \n",
       "2         0                                       Stevedore_57         NaN   \n",
       "3         0                                       Stevedore_57         NaN   \n",
       "4         0                                       Stevedore_98         NaN   \n",
       "...     ...                                                ...         ...   \n",
       "8203      0                                       Stevedore_64         NaN   \n",
       "8204      0  Stevedore_110,Stevedore_57,Stevedore_99,Steved...         NaN   \n",
       "8205   3051  Stevedore_89,Stevedore_79,Stevedore_75,Stevedo...         NaN   \n",
       "8206      0                                       Stevedore_46         NaN   \n",
       "8207      0  Stevedore_28,Stevedore_99,Stevedore_57,Stevedo...         NaN   \n",
       "\n",
       "                 earliesteta               latesteta traveltype  \\\n",
       "0     2017-09-19 00:00:00+00  2017-09-19 00:00:00+00    ARRIVAL   \n",
       "1     2017-10-02 00:00:00+00  2017-10-02 00:00:00+00    ARRIVAL   \n",
       "2     2017-09-30 00:00:00+00  2017-09-30 00:00:00+00    ARRIVAL   \n",
       "3     2017-10-02 00:00:00+00  2017-10-02 00:00:00+00    ARRIVAL   \n",
       "4     2017-10-02 00:00:00+00  2017-10-02 00:00:00+00    ARRIVAL   \n",
       "...                      ...                     ...        ...   \n",
       "8203  2017-11-02 00:00:00+00  2017-11-03 00:00:00+00    ARRIVAL   \n",
       "8204  2017-11-04 00:00:00+00  2017-11-05 00:00:00+00      SHIFT   \n",
       "8205  2017-11-07 00:00:00+00  2017-11-10 00:00:00+00      SHIFT   \n",
       "8206  2017-11-10 00:00:00+00  2017-11-10 00:00:00+00    ARRIVAL   \n",
       "8207  2017-11-08 00:00:00+00  2017-11-10 00:00:00+00      SHIFT   \n",
       "\n",
       "      previousportid  nextportid isremarkable  vesselid  \n",
       "0                981         731            f      2242  \n",
       "1                 19          15            f      5462  \n",
       "2                 19          19            f      5251  \n",
       "3                 15          18            f      5268  \n",
       "4                 74          27            f      5504  \n",
       "...              ...         ...          ...       ...  \n",
       "8203               5          19            f      5681  \n",
       "8204             391         102            f      4843  \n",
       "8205            1043          19            f      3115  \n",
       "8206              54          71            f      4623  \n",
       "8207            1060          14            f      4785  \n",
       "\n",
       "[8208 rows x 17 columns]"
      ]
     },
     "execution_count": 2,
     "metadata": {},
     "output_type": "execute_result"
    }
   ],
   "source": [
    "data.iloc[:,5:22]"
   ]
  },
  {
   "cell_type": "code",
   "execution_count": 3,
   "metadata": {},
   "outputs": [
    {
     "data": {
      "text/plain": [
       "(8208, 22)"
      ]
     },
     "execution_count": 3,
     "metadata": {},
     "output_type": "execute_result"
    }
   ],
   "source": [
    "data.shape"
   ]
  },
  {
   "cell_type": "code",
   "execution_count": 4,
   "metadata": {},
   "outputs": [
    {
     "data": {
      "text/plain": [
       "Index(['eta', 'ata', 'atd', 'vesseldwt', 'vesseltype', 'discharge1', 'load1',\n",
       "       'discharge2', 'load2', 'discharge3', 'load3', 'discharge4', 'load4',\n",
       "       'stevedorenames', 'hasnohamis', 'earliesteta', 'latesteta',\n",
       "       'traveltype', 'previousportid', 'nextportid', 'isremarkable',\n",
       "       'vesselid'],\n",
       "      dtype='object')"
      ]
     },
     "execution_count": 4,
     "metadata": {},
     "output_type": "execute_result"
    }
   ],
   "source": [
    "data.columns"
   ]
  },
  {
   "cell_type": "markdown",
   "metadata": {},
   "source": [
    "## Data Preparation"
   ]
  },
  {
   "cell_type": "markdown",
   "metadata": {},
   "source": [
    "### Drop the virables that might create noises to the model accuracy"
   ]
  },
  {
   "cell_type": "code",
   "execution_count": 5,
   "metadata": {},
   "outputs": [],
   "source": [
    "# Only need actual arrival and departure time, the 'eta' estimated time is not helpful.\n",
    "data.drop('eta',inplace=True, axis=1)\n",
    "\n"
   ]
  },
  {
   "cell_type": "code",
   "execution_count": 6,
   "metadata": {},
   "outputs": [
    {
     "data": {
      "text/plain": [
       "ata                  0\n",
       "atd                  0\n",
       "vesseldwt            2\n",
       "vesseltype           0\n",
       "discharge1           0\n",
       "load1                0\n",
       "discharge2           0\n",
       "load2                0\n",
       "discharge3           0\n",
       "load3                0\n",
       "discharge4           0\n",
       "load4                0\n",
       "stevedorenames       2\n",
       "hasnohamis        8208\n",
       "earliesteta          0\n",
       "latesteta            0\n",
       "traveltype           0\n",
       "previousportid       0\n",
       "nextportid           0\n",
       "isremarkable         0\n",
       "vesselid             0\n",
       "dtype: int64"
      ]
     },
     "execution_count": 6,
     "metadata": {},
     "output_type": "execute_result"
    }
   ],
   "source": [
    "# Handling missing values\n",
    "\n",
    "data.isnull().sum()"
   ]
  },
  {
   "cell_type": "code",
   "execution_count": 7,
   "metadata": {},
   "outputs": [],
   "source": [
    "# drop hasnohamis as it is full of null values\n",
    "\n",
    "data.drop('hasnohamis',inplace=True, axis=1)"
   ]
  },
  {
   "cell_type": "code",
   "execution_count": 8,
   "metadata": {},
   "outputs": [],
   "source": [
    "# Rest of other null values, just drop\n",
    "data.dropna(inplace=True)"
   ]
  },
  {
   "cell_type": "code",
   "execution_count": 36,
   "metadata": {},
   "outputs": [
    {
     "data": {
      "image/png": "[encoded data removed]",
      "text/plain": [
       "<Figure size 1080x540 with 1 Axes>"
      ]
     },
     "metadata": {
      "needs_background": "light"
     },
     "output_type": "display_data"
    }
   ],
   "source": [
    "plt.figure(figsize=[15, 7.5]) \n",
    "plt.scatter(data['ata'], data['discharge1'])\n",
    "plt.ylabel('Discharge amount of cargo type1')\n",
    "plt.xlabel('Actual time of arrival of vessel')\n",
    "plt.xticks(rotation=90)\n",
    "plt.grid(True)\n",
    "plt.show()"
   ]
  },
  {
   "cell_type": "markdown",
   "metadata": {},
   "source": [
    "### Our next step is to decompose the time series and evaluate the patterns in the data."
   ]
  },
  {
   "cell_type": "code",
   "execution_count": 9,
   "metadata": {},
   "outputs": [],
   "source": [
    "\n",
    "import matplotlib.pyplot as plt\n",
    "import statsmodels.api as sm\n",
    "from pandas.plotting import lag_plot\n",
    "from statsmodels.tsa.stattools import adfuller\n",
    "import warnings\n",
    "\n",
    "# Setup\n",
    "warnings.filterwarnings(\"ignore\")"
   ]
  },
  {
   "cell_type": "markdown",
   "metadata": {},
   "source": [
    "\n",
    "## Modelling the Data "
   ]
  },
  {
   "cell_type": "markdown",
   "metadata": {},
   "source": [
    "#### To model our data, we should look at a few assumptions.First, I'll plot the lag_plot to detect any autocorrelation."
   ]
  },
  {
   "cell_type": "code",
   "execution_count": 21,
   "metadata": {},
   "outputs": [
    {
     "data": {
      "image/png": "[encoded data removed]",
      "text/plain": [
       "<Figure size 432x288 with 1 Axes>"
      ]
     },
     "metadata": {
      "needs_background": "light"
     },
     "output_type": "display_data"
    }
   ],
   "source": [
    "lag_plot(data['discharge1'])\n",
    "plt.show()"
   ]
  },
  {
   "cell_type": "code",
   "execution_count": 23,
   "metadata": {},
   "outputs": [
    {
     "data": {
      "image/png": "[encoded data removed]",
      "text/plain": [
       "<Figure size 432x288 with 1 Axes>"
      ]
     },
     "metadata": {
      "needs_background": "light"
     },
     "output_type": "display_data"
    }
   ],
   "source": [
    "lag_plot(data['load1'])\n",
    "plt.show()"
   ]
  },
  {
   "cell_type": "code",
   "execution_count": null,
   "metadata": {},
   "outputs": [],
   "source": [
    "'''\n",
    "It shows that there is no autocorrelation, the series is not linearly related to a lagged version of itself.\n",
    "So we can continue to use it for forecasting.\n",
    "'''"
   ]
  },
  {
   "cell_type": "markdown",
   "metadata": {},
   "source": [
    "#### The next step will be to test both variables for stationarity"
   ]
  },
  {
   "cell_type": "code",
   "execution_count": 25,
   "metadata": {},
   "outputs": [
    {
     "name": "stdout",
     "output_type": "stream",
     "text": [
      "We can reject the null hypothesis with a 95% confidence level.\n",
      "We can reject the null hypothesis with a 95% confidence level.\n"
     ]
    }
   ],
   "source": [
    "# Ho: discharge1 is not stationary\n",
    "# Ha: discharge2 is stationary\n",
    "\n",
    "if adfuller(data['discharge1'])[1] < 0.05:\n",
    "    print(\"We can reject the null hypothesis with a 95% confidence level.\")\n",
    "else:\n",
    "    print(\"We can't reject the null hypothesis.\")\n",
    "\n",
    "\n",
    "# Ho: load1 is not stationary\n",
    "# Ha: load1 is stationary\n",
    "\n",
    "if adfuller(data['load1'])[1] < 0.05:\n",
    "    print(\"We can reject the null hypothesis with a 95% confidence level.\")\n",
    "else:\n",
    "    print(\"We can't reject the null hypothesis.\")"
   ]
  },
  {
   "cell_type": "markdown",
   "metadata": {},
   "source": [
    "#### Finally, I'll create an ARMA model for discharge1"
   ]
  },
  {
   "cell_type": "code",
   "execution_count": 38,
   "metadata": {},
   "outputs": [
    {
     "name": "stdout",
     "output_type": "stream",
     "text": [
      "The number of samples in train is 7208 and the number of samples in test is 1000.\n"
     ]
    },
    {
     "ename": "ValueError",
     "evalue": "The computed initial AR coefficients are not stationary\nYou should induce stationarity, choose a different model order, or you can\npass your own start_params.",
     "output_type": "error",
     "traceback": [
      "\u001b[0;31m---------------------------------------------------------------------------\u001b[0m",
      "\u001b[0;31mValueError\u001b[0m                                Traceback (most recent call last)",
      "\u001b[0;32m<ipython-input-38-d184cb666a8c>\u001b[0m in \u001b[0;36m<module>\u001b[0;34m\u001b[0m\n\u001b[1;32m     13\u001b[0m \u001b[0;31m# Model\u001b[0m\u001b[0;34m\u001b[0m\u001b[0;34m\u001b[0m\u001b[0m\n\u001b[1;32m     14\u001b[0m \u001b[0mmodel\u001b[0m \u001b[0;34m=\u001b[0m \u001b[0mARMA\u001b[0m\u001b[0;34m(\u001b[0m\u001b[0mtrain\u001b[0m\u001b[0;34m,\u001b[0m \u001b[0morder\u001b[0m\u001b[0;34m=\u001b[0m\u001b[0;34m(\u001b[0m\u001b[0;36m2\u001b[0m\u001b[0;34m,\u001b[0m\u001b[0;36m1\u001b[0m\u001b[0;34m)\u001b[0m\u001b[0;34m)\u001b[0m\u001b[0;34m\u001b[0m\u001b[0m\n\u001b[0;32m---> 15\u001b[0;31m \u001b[0marma\u001b[0m \u001b[0;34m=\u001b[0m \u001b[0mmodel\u001b[0m\u001b[0;34m.\u001b[0m\u001b[0mfit\u001b[0m\u001b[0;34m(\u001b[0m\u001b[0mdisp\u001b[0m\u001b[0;34m=\u001b[0m\u001b[0;32mFalse\u001b[0m\u001b[0;34m)\u001b[0m\u001b[0;34m\u001b[0m\u001b[0m\n\u001b[0m\u001b[1;32m     16\u001b[0m \u001b[0;34m\u001b[0m\u001b[0m\n\u001b[1;32m     17\u001b[0m \u001b[0;31m# Predictions\u001b[0m\u001b[0;34m\u001b[0m\u001b[0;34m\u001b[0m\u001b[0m\n",
      "\u001b[0;32m/Library/Frameworks/Python.framework/Versions/3.6/lib/python3.6/site-packages/statsmodels/tsa/arima_model.py\u001b[0m in \u001b[0;36mfit\u001b[0;34m(self, start_params, trend, method, transparams, solver, maxiter, full_output, disp, callback, start_ar_lags, **kwargs)\u001b[0m\n\u001b[1;32m    984\u001b[0m         \u001b[0;32melse\u001b[0m\u001b[0;34m:\u001b[0m  \u001b[0;31m# estimate starting parameters\u001b[0m\u001b[0;34m\u001b[0m\u001b[0m\n\u001b[1;32m    985\u001b[0m             start_params = self._fit_start_params((k_ar, k_ma, k), method,\n\u001b[0;32m--> 986\u001b[0;31m                                                   start_ar_lags)\n\u001b[0m\u001b[1;32m    987\u001b[0m \u001b[0;34m\u001b[0m\u001b[0m\n\u001b[1;32m    988\u001b[0m         \u001b[0;32mif\u001b[0m \u001b[0mtransparams\u001b[0m\u001b[0;34m:\u001b[0m  \u001b[0;31m# transform initial parameters to ensure invertibility\u001b[0m\u001b[0;34m\u001b[0m\u001b[0m\n",
      "\u001b[0;32m/Library/Frameworks/Python.framework/Versions/3.6/lib/python3.6/site-packages/statsmodels/tsa/arima_model.py\u001b[0m in \u001b[0;36m_fit_start_params\u001b[0;34m(self, order, method, start_ar_lags)\u001b[0m\n\u001b[1;32m    575\u001b[0m                 \u001b[0;32mreturn\u001b[0m \u001b[0;34m-\u001b[0m\u001b[0mself\u001b[0m\u001b[0;34m.\u001b[0m\u001b[0mloglike_css\u001b[0m\u001b[0;34m(\u001b[0m\u001b[0mparams\u001b[0m\u001b[0;34m)\u001b[0m\u001b[0;34m\u001b[0m\u001b[0m\n\u001b[1;32m    576\u001b[0m \u001b[0;34m\u001b[0m\u001b[0m\n\u001b[0;32m--> 577\u001b[0;31m             \u001b[0mstart_params\u001b[0m \u001b[0;34m=\u001b[0m \u001b[0mself\u001b[0m\u001b[0;34m.\u001b[0m\u001b[0m_fit_start_params_hr\u001b[0m\u001b[0;34m(\u001b[0m\u001b[0morder\u001b[0m\u001b[0;34m,\u001b[0m \u001b[0mstart_ar_lags\u001b[0m\u001b[0;34m)\u001b[0m\u001b[0;34m\u001b[0m\u001b[0m\n\u001b[0m\u001b[1;32m    578\u001b[0m             \u001b[0;32mif\u001b[0m \u001b[0mself\u001b[0m\u001b[0;34m.\u001b[0m\u001b[0mtransparams\u001b[0m\u001b[0;34m:\u001b[0m\u001b[0;34m\u001b[0m\u001b[0m\n\u001b[1;32m    579\u001b[0m                 \u001b[0mstart_params\u001b[0m \u001b[0;34m=\u001b[0m \u001b[0mself\u001b[0m\u001b[0;34m.\u001b[0m\u001b[0m_invtransparams\u001b[0m\u001b[0;34m(\u001b[0m\u001b[0mstart_params\u001b[0m\u001b[0;34m)\u001b[0m\u001b[0;34m\u001b[0m\u001b[0m\n",
      "\u001b[0;32m/Library/Frameworks/Python.framework/Versions/3.6/lib/python3.6/site-packages/statsmodels/tsa/arima_model.py\u001b[0m in \u001b[0;36m_fit_start_params_hr\u001b[0;34m(self, order, start_ar_lags)\u001b[0m\n\u001b[1;32m    553\u001b[0m         if p and not np.all(np.abs(np.roots(np.r_[1, -start_params[k:k + p]]\n\u001b[1;32m    554\u001b[0m                                             )) < 1):\n\u001b[0;32m--> 555\u001b[0;31m             raise ValueError(\"The computed initial AR coefficients are not \"\n\u001b[0m\u001b[1;32m    556\u001b[0m                              \u001b[0;34m\"stationary\\nYou should induce stationarity, \"\u001b[0m\u001b[0;34m\u001b[0m\u001b[0m\n\u001b[1;32m    557\u001b[0m                              \u001b[0;34m\"choose a different model order, or you can\\n\"\u001b[0m\u001b[0;34m\u001b[0m\u001b[0m\n",
      "\u001b[0;31mValueError\u001b[0m: The computed initial AR coefficients are not stationary\nYou should induce stationarity, choose a different model order, or you can\npass your own start_params."
     ]
    }
   ],
   "source": [
    "from statsmodels.tsa.arima_model import ARMA\n",
    "# ARMA of order (p,q)\n",
    "# p: order of the autoregressive model (AR).\n",
    "# q: order of the moving average model (MA).\n",
    "\n",
    "\n",
    "# Train and test set\n",
    "index = data.shape[0] - 1000   \n",
    "train = data['discharge1'][:index] \n",
    "test = data['discharge1'][index:]      # using the last 1000 entries of data as the test set\n",
    "print(f\"The number of samples in train is {train.shape[0]} and the number of samples in test is {test.shape[0]}.\")\n",
    "\n",
    "# Model\n",
    "model = ARMA(train, order=(2,1))\n",
    "arma = model.fit(disp=False)\n",
    "\n",
    "# Predictions\n",
    "predictions = arma.predict(test.index[0], test.index[-1])\n",
    "\n",
    "# evaluation\n",
    "from statsmodels.tools.eval_measures import rmse\n",
    "rmse(test, predictions)\n"
   ]
  },
  {
   "cell_type": "code",
   "execution_count": null,
   "metadata": {},
   "outputs": [],
   "source": []
  }
 ],
 "metadata": {
  "kernelspec": {
   "display_name": "Python 3",
   "language": "python",
   "name": "python3"
  },
  "language_info": {
   "codemirror_mode": {
    "name": "ipython",
    "version": 3
   },
   "file_extension": ".py",
   "mimetype": "text/x-python",
   "name": "python",
   "nbconvert_exporter": "python",
   "pygments_lexer": "ipython3",
   "version": "3.6.5"
  }
 },
 "nbformat": 4,
 "nbformat_minor": 4
}
