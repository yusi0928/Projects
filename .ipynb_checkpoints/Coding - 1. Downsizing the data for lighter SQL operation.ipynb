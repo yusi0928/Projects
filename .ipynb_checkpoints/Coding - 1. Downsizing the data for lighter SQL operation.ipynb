{
 "cells": [
  {
   "cell_type": "code",
   "execution_count": 1,
   "metadata": {},
   "outputs": [
    {
     "data": {
      "text/html": [
       "<div>\n",
       "<style scoped>\n",
       "    .dataframe tbody tr th:only-of-type {\n",
       "        vertical-align: middle;\n",
       "    }\n",
       "\n",
       "    .dataframe tbody tr th {\n",
       "        vertical-align: top;\n",
       "    }\n",
       "\n",
       "    .dataframe thead th {\n",
       "        text-align: right;\n",
       "    }\n",
       "</style>\n",
       "<table border=\"1\" class=\"dataframe\">\n",
       "  <thead>\n",
       "    <tr style=\"text-align: right;\">\n",
       "      <th></th>\n",
       "      <th>metadataid</th>\n",
       "      <th>asin</th>\n",
       "      <th>salesrank</th>\n",
       "      <th>imurl</th>\n",
       "      <th>categories</th>\n",
       "      <th>title</th>\n",
       "      <th>description</th>\n",
       "      <th>price</th>\n",
       "      <th>related</th>\n",
       "      <th>brand</th>\n",
       "    </tr>\n",
       "  </thead>\n",
       "  <tbody>\n",
       "    <tr>\n",
       "      <th>0</th>\n",
       "      <td>2005401</td>\n",
       "      <td>B00004SR8Z</td>\n",
       "      <td>{'Clothing': 1631}</td>\n",
       "      <td>http://ecx.images-amazon.com/images/I/41RfWLMD...</td>\n",
       "      <td>[['Clothing, Shoes &amp; Jewelry', 'Luggage &amp; Trav...</td>\n",
       "      <td>Lewis N. Clark Deluxe Neck Stash</td>\n",
       "      <td>NaN</td>\n",
       "      <td>12.80</td>\n",
       "      <td>{'also_bought': ['B004RJWFDU', 'B00920ZC3O', '...</td>\n",
       "      <td>Lewis N. Clark</td>\n",
       "    </tr>\n",
       "    <tr>\n",
       "      <th>1</th>\n",
       "      <td>2217897</td>\n",
       "      <td>B0000ZE74A</td>\n",
       "      <td>{'Clothing': 4742}</td>\n",
       "      <td>http://ecx.images-amazon.com/images/I/41ryA-RO...</td>\n",
       "      <td>[['Clothing, Shoes &amp; Jewelry', 'Women', 'Cloth...</td>\n",
       "      <td>Vanity Fair Women's Lollipop Plus Size Cuff Le...</td>\n",
       "      <td>NaN</td>\n",
       "      <td>NaN</td>\n",
       "      <td>{'also_bought': ['B004PEHJ6U', 'B0000TF5VK', '...</td>\n",
       "      <td>NaN</td>\n",
       "    </tr>\n",
       "    <tr>\n",
       "      <th>2</th>\n",
       "      <td>2220611</td>\n",
       "      <td>B00012O12A</td>\n",
       "      <td>{'Clothing': 4}</td>\n",
       "      <td>http://ecx.images-amazon.com/images/I/41Dd7rCH...</td>\n",
       "      <td>[['Clothing, Shoes &amp; Jewelry', 'Men', 'Clothin...</td>\n",
       "      <td>Levi's Men's 505 Regular-Fit Jean</td>\n",
       "      <td>NaN</td>\n",
       "      <td>NaN</td>\n",
       "      <td>{'also_bought': ['B0018OR118', 'B003M2X1VI', '...</td>\n",
       "      <td>NaN</td>\n",
       "    </tr>\n",
       "    <tr>\n",
       "      <th>3</th>\n",
       "      <td>2324985</td>\n",
       "      <td>B0002XSXWC</td>\n",
       "      <td>{'Clothing': 300}</td>\n",
       "      <td>http://ecx.images-amazon.com/images/I/41-HS7D7...</td>\n",
       "      <td>[['Sports &amp; Outdoors', 'Clothing', 'Men', 'Shi...</td>\n",
       "      <td>Columbia Men's Bonehead Short Sleeve Fishing S...</td>\n",
       "      <td>NaN</td>\n",
       "      <td>NaN</td>\n",
       "      <td>{'also_bought': ['B0031RFWMU', 'B0050VLSLO', '...</td>\n",
       "      <td>NaN</td>\n",
       "    </tr>\n",
       "    <tr>\n",
       "      <th>4</th>\n",
       "      <td>2348742</td>\n",
       "      <td>B00066TWMU</td>\n",
       "      <td>{'Clothing': 1199}</td>\n",
       "      <td>http://ecx.images-amazon.com/images/I/51UNLUB4...</td>\n",
       "      <td>[['Clothing, Shoes &amp; Jewelry', 'ASICS'], ['Clo...</td>\n",
       "      <td>ASICS Mesh Backpack</td>\n",
       "      <td>NaN</td>\n",
       "      <td>12.41</td>\n",
       "      <td>{'also_bought': ['B009DB3RS4', 'B001PFA35G', '...</td>\n",
       "      <td>ASICS</td>\n",
       "    </tr>\n",
       "  </tbody>\n",
       "</table>\n",
       "</div>"
      ],
      "text/plain": [
       "   metadataid        asin           salesrank  \\\n",
       "0     2005401  B00004SR8Z  {'Clothing': 1631}   \n",
       "1     2217897  B0000ZE74A  {'Clothing': 4742}   \n",
       "2     2220611  B00012O12A     {'Clothing': 4}   \n",
       "3     2324985  B0002XSXWC   {'Clothing': 300}   \n",
       "4     2348742  B00066TWMU  {'Clothing': 1199}   \n",
       "\n",
       "                                               imurl  \\\n",
       "0  http://ecx.images-amazon.com/images/I/41RfWLMD...   \n",
       "1  http://ecx.images-amazon.com/images/I/41ryA-RO...   \n",
       "2  http://ecx.images-amazon.com/images/I/41Dd7rCH...   \n",
       "3  http://ecx.images-amazon.com/images/I/41-HS7D7...   \n",
       "4  http://ecx.images-amazon.com/images/I/51UNLUB4...   \n",
       "\n",
       "                                          categories  \\\n",
       "0  [['Clothing, Shoes & Jewelry', 'Luggage & Trav...   \n",
       "1  [['Clothing, Shoes & Jewelry', 'Women', 'Cloth...   \n",
       "2  [['Clothing, Shoes & Jewelry', 'Men', 'Clothin...   \n",
       "3  [['Sports & Outdoors', 'Clothing', 'Men', 'Shi...   \n",
       "4  [['Clothing, Shoes & Jewelry', 'ASICS'], ['Clo...   \n",
       "\n",
       "                                               title description  price  \\\n",
       "0                   Lewis N. Clark Deluxe Neck Stash         NaN  12.80   \n",
       "1  Vanity Fair Women's Lollipop Plus Size Cuff Le...         NaN    NaN   \n",
       "2                  Levi's Men's 505 Regular-Fit Jean         NaN    NaN   \n",
       "3  Columbia Men's Bonehead Short Sleeve Fishing S...         NaN    NaN   \n",
       "4                                ASICS Mesh Backpack         NaN  12.41   \n",
       "\n",
       "                                             related           brand  \n",
       "0  {'also_bought': ['B004RJWFDU', 'B00920ZC3O', '...  Lewis N. Clark  \n",
       "1  {'also_bought': ['B004PEHJ6U', 'B0000TF5VK', '...             NaN  \n",
       "2  {'also_bought': ['B0018OR118', 'B003M2X1VI', '...             NaN  \n",
       "3  {'also_bought': ['B0031RFWMU', 'B0050VLSLO', '...             NaN  \n",
       "4  {'also_bought': ['B009DB3RS4', 'B001PFA35G', '...           ASICS  "
      ]
     },
     "execution_count": 1,
     "metadata": {},
     "output_type": "execute_result"
    }
   ],
   "source": [
    "import pandas as pd\n",
    "\n",
    "df = pd.read_csv('/Users/abc/Desktop/Takeaway.com/Raw dataset/metadata_category_clothing_shoes_and_jewelry_only.csv')\n",
    "df.head()"
   ]
  },
  {
   "cell_type": "code",
   "execution_count": 2,
   "metadata": {},
   "outputs": [
    {
     "data": {
      "text/plain": [
       "(23033, 10)"
      ]
     },
     "execution_count": 2,
     "metadata": {},
     "output_type": "execute_result"
    }
   ],
   "source": [
    "df.shape"
   ]
  },
  {
   "cell_type": "code",
   "execution_count": 10,
   "metadata": {},
   "outputs": [
    {
     "data": {
      "text/plain": [
       "(100000, 10)"
      ]
     },
     "execution_count": 10,
     "metadata": {},
     "output_type": "execute_result"
    }
   ],
   "source": [
    "elec = pd.read_csv('/Users/abc/Desktop/Takeaway.com/Raw dataset/reviews_Electronics_5.csv',nrows=100000)\n",
    "\n",
    "elec.shape\n",
    "\n"
   ]
  },
  {
   "cell_type": "code",
   "execution_count": 11,
   "metadata": {},
   "outputs": [],
   "source": [
    "elec.to_csv('/Users/abc/Desktop/Takeaway.com/Downsized dataset/reviews_Electronics_downsize.csv', index=False, header=True)"
   ]
  },
  {
   "cell_type": "code",
   "execution_count": 12,
   "metadata": {},
   "outputs": [
    {
     "data": {
      "text/plain": [
       "(100000, 10)"
      ]
     },
     "execution_count": 12,
     "metadata": {},
     "output_type": "execute_result"
    }
   ],
   "source": [
    "clothing = pd.read_csv('/Users/abc/Desktop/Takeaway.com/Raw dataset/reviews_Clothing_Shoes_and_Jewelry_5.csv',nrows=100000)\n",
    "\n",
    "clothing.shape"
   ]
  },
  {
   "cell_type": "code",
   "execution_count": 13,
   "metadata": {},
   "outputs": [],
   "source": [
    "clothing.to_csv('/Users/abc/Desktop/Takeaway.com/Downsized dataset/reviews_Clothing_downsize.csv', index=False, header=True)"
   ]
  },
  {
   "cell_type": "code",
   "execution_count": 14,
   "metadata": {},
   "outputs": [
    {
     "data": {
      "text/plain": [
       "(100000, 10)"
      ]
     },
     "execution_count": 14,
     "metadata": {},
     "output_type": "execute_result"
    }
   ],
   "source": [
    "movie = pd.read_csv('/Users/abc/Desktop/Takeaway.com/Raw dataset/reviews_Clothing_Shoes_and_Jewelry_5.csv',nrows=100000)\n",
    "\n",
    "movie.shape"
   ]
  },
  {
   "cell_type": "code",
   "execution_count": 15,
   "metadata": {},
   "outputs": [],
   "source": [
    "movie.to_csv('/Users/abc/Desktop/Takeaway.com/Downsized dataset/reviews_Movies_downsize.csv', index=False, header=True)"
   ]
  },
  {
   "cell_type": "code",
   "execution_count": 16,
   "metadata": {},
   "outputs": [
    {
     "data": {
      "text/plain": [
       "(100000, 10)"
      ]
     },
     "execution_count": 16,
     "metadata": {},
     "output_type": "execute_result"
    }
   ],
   "source": [
    "books = pd.read_csv('/Users/abc/Desktop/Takeaway.com/Raw dataset/reviews_Books_5.csv',nrows=100000)\n",
    "\n",
    "books.shape"
   ]
  },
  {
   "cell_type": "code",
   "execution_count": 17,
   "metadata": {},
   "outputs": [],
   "source": [
    "books.to_csv('/Users/abc/Desktop/Takeaway.com/Downsized dataset/reviews_Books_downsize.csv', index=False, header=True)"
   ]
  },
  {
   "cell_type": "code",
   "execution_count": 21,
   "metadata": {},
   "outputs": [
    {
     "data": {
      "text/html": [
       "<div>\n",
       "<style scoped>\n",
       "    .dataframe tbody tr th:only-of-type {\n",
       "        vertical-align: middle;\n",
       "    }\n",
       "\n",
       "    .dataframe tbody tr th {\n",
       "        vertical-align: top;\n",
       "    }\n",
       "\n",
       "    .dataframe thead th {\n",
       "        text-align: right;\n",
       "    }\n",
       "</style>\n",
       "<table border=\"1\" class=\"dataframe\">\n",
       "  <thead>\n",
       "    <tr style=\"text-align: right;\">\n",
       "      <th></th>\n",
       "      <th>Unnamed: 0</th>\n",
       "      <th>reviewerID</th>\n",
       "      <th>asin</th>\n",
       "      <th>reviewerName</th>\n",
       "      <th>helpful</th>\n",
       "      <th>reviewText</th>\n",
       "      <th>overall</th>\n",
       "      <th>summary</th>\n",
       "      <th>unixReviewTime</th>\n",
       "      <th>reviewTime</th>\n",
       "    </tr>\n",
       "  </thead>\n",
       "  <tbody>\n",
       "    <tr>\n",
       "      <th>0</th>\n",
       "      <td>0</td>\n",
       "      <td>A10000012B7CGYKOMPQ4L</td>\n",
       "      <td>000100039X</td>\n",
       "      <td>Adam</td>\n",
       "      <td>[0, 0]</td>\n",
       "      <td>Spiritually and mentally inspiring! A book tha...</td>\n",
       "      <td>5.0</td>\n",
       "      <td>Wonderful!</td>\n",
       "      <td>1355616000</td>\n",
       "      <td>12 16, 2012</td>\n",
       "    </tr>\n",
       "    <tr>\n",
       "      <th>1</th>\n",
       "      <td>1</td>\n",
       "      <td>A2S166WSCFIFP5</td>\n",
       "      <td>000100039X</td>\n",
       "      <td>adead_poet@hotmail.com \"adead_poet@hotmail.com\"</td>\n",
       "      <td>[0, 2]</td>\n",
       "      <td>This is one my must have books. It is a master...</td>\n",
       "      <td>5.0</td>\n",
       "      <td>close to god</td>\n",
       "      <td>1071100800</td>\n",
       "      <td>12 11, 2003</td>\n",
       "    </tr>\n",
       "    <tr>\n",
       "      <th>2</th>\n",
       "      <td>2</td>\n",
       "      <td>A1BM81XB4QHOA3</td>\n",
       "      <td>000100039X</td>\n",
       "      <td>Ahoro Blethends \"Seriously\"</td>\n",
       "      <td>[0, 0]</td>\n",
       "      <td>This book provides a reflection that you can a...</td>\n",
       "      <td>5.0</td>\n",
       "      <td>Must Read for Life Afficianados</td>\n",
       "      <td>1390003200</td>\n",
       "      <td>01 18, 2014</td>\n",
       "    </tr>\n",
       "    <tr>\n",
       "      <th>3</th>\n",
       "      <td>3</td>\n",
       "      <td>A1MOSTXNIO5MPJ</td>\n",
       "      <td>000100039X</td>\n",
       "      <td>Alan Krug</td>\n",
       "      <td>[0, 0]</td>\n",
       "      <td>I first read THE PROPHET in college back in th...</td>\n",
       "      <td>5.0</td>\n",
       "      <td>Timeless for every good and bad time in your l...</td>\n",
       "      <td>1317081600</td>\n",
       "      <td>09 27, 2011</td>\n",
       "    </tr>\n",
       "    <tr>\n",
       "      <th>4</th>\n",
       "      <td>4</td>\n",
       "      <td>A2XQ5LZHTD4AFT</td>\n",
       "      <td>000100039X</td>\n",
       "      <td>Alaturka</td>\n",
       "      <td>[7, 9]</td>\n",
       "      <td>A timeless classic.  It is a very demanding an...</td>\n",
       "      <td>5.0</td>\n",
       "      <td>A Modern Rumi</td>\n",
       "      <td>1033948800</td>\n",
       "      <td>10 7, 2002</td>\n",
       "    </tr>\n",
       "  </tbody>\n",
       "</table>\n",
       "</div>"
      ],
      "text/plain": [
       "   Unnamed: 0             reviewerID        asin  \\\n",
       "0           0  A10000012B7CGYKOMPQ4L  000100039X   \n",
       "1           1         A2S166WSCFIFP5  000100039X   \n",
       "2           2         A1BM81XB4QHOA3  000100039X   \n",
       "3           3         A1MOSTXNIO5MPJ  000100039X   \n",
       "4           4         A2XQ5LZHTD4AFT  000100039X   \n",
       "\n",
       "                                      reviewerName helpful  \\\n",
       "0                                             Adam  [0, 0]   \n",
       "1  adead_poet@hotmail.com \"adead_poet@hotmail.com\"  [0, 2]   \n",
       "2                      Ahoro Blethends \"Seriously\"  [0, 0]   \n",
       "3                                        Alan Krug  [0, 0]   \n",
       "4                                         Alaturka  [7, 9]   \n",
       "\n",
       "                                          reviewText  overall  \\\n",
       "0  Spiritually and mentally inspiring! A book tha...      5.0   \n",
       "1  This is one my must have books. It is a master...      5.0   \n",
       "2  This book provides a reflection that you can a...      5.0   \n",
       "3  I first read THE PROPHET in college back in th...      5.0   \n",
       "4  A timeless classic.  It is a very demanding an...      5.0   \n",
       "\n",
       "                                             summary  unixReviewTime  \\\n",
       "0                                         Wonderful!      1355616000   \n",
       "1                                       close to god      1071100800   \n",
       "2                    Must Read for Life Afficianados      1390003200   \n",
       "3  Timeless for every good and bad time in your l...      1317081600   \n",
       "4                                      A Modern Rumi      1033948800   \n",
       "\n",
       "    reviewTime  \n",
       "0  12 16, 2012  \n",
       "1  12 11, 2003  \n",
       "2  01 18, 2014  \n",
       "3  09 27, 2011  \n",
       "4   10 7, 2002  "
      ]
     },
     "execution_count": 21,
     "metadata": {},
     "output_type": "execute_result"
    }
   ],
   "source": [
    "books.head()"
   ]
  },
  {
   "cell_type": "code",
   "execution_count": 18,
   "metadata": {},
   "outputs": [
    {
     "data": {
      "text/plain": [
       "(100000, 10)"
      ]
     },
     "execution_count": 18,
     "metadata": {},
     "output_type": "execute_result"
    }
   ],
   "source": [
    "meta = pd.read_csv('/Users/abc/Desktop/Takeaway.com/Raw dataset/metadata.csv',nrows=100000)\n",
    "\n",
    "meta.shape"
   ]
  },
  {
   "cell_type": "code",
   "execution_count": 19,
   "metadata": {},
   "outputs": [],
   "source": [
    "meta.to_csv('/Users/abc/Desktop/Takeaway.com/Downsized dataset/metadata_downsize.csv', index=False, header=True)"
   ]
  },
  {
   "cell_type": "code",
   "execution_count": 20,
   "metadata": {
    "scrolled": true
   },
   "outputs": [
    {
     "data": {
      "text/html": [
       "<div>\n",
       "<style scoped>\n",
       "    .dataframe tbody tr th:only-of-type {\n",
       "        vertical-align: middle;\n",
       "    }\n",
       "\n",
       "    .dataframe tbody tr th {\n",
       "        vertical-align: top;\n",
       "    }\n",
       "\n",
       "    .dataframe thead th {\n",
       "        text-align: right;\n",
       "    }\n",
       "</style>\n",
       "<table border=\"1\" class=\"dataframe\">\n",
       "  <thead>\n",
       "    <tr style=\"text-align: right;\">\n",
       "      <th></th>\n",
       "      <th>Unnamed: 0</th>\n",
       "      <th>asin</th>\n",
       "      <th>salesRank</th>\n",
       "      <th>imUrl</th>\n",
       "      <th>categories</th>\n",
       "      <th>title</th>\n",
       "      <th>description</th>\n",
       "      <th>price</th>\n",
       "      <th>related</th>\n",
       "      <th>brand</th>\n",
       "    </tr>\n",
       "  </thead>\n",
       "  <tbody>\n",
       "    <tr>\n",
       "      <th>0</th>\n",
       "      <td>0</td>\n",
       "      <td>0001048791</td>\n",
       "      <td>{'Books': 6334800}</td>\n",
       "      <td>http://ecx.images-amazon.com/images/I/51MKP0T4...</td>\n",
       "      <td>[['Books']]</td>\n",
       "      <td>The Crucible: Performed by Stuart Pankin, Jero...</td>\n",
       "      <td>NaN</td>\n",
       "      <td>NaN</td>\n",
       "      <td>NaN</td>\n",
       "      <td>NaN</td>\n",
       "    </tr>\n",
       "    <tr>\n",
       "      <th>1</th>\n",
       "      <td>1</td>\n",
       "      <td>0000143561</td>\n",
       "      <td>{'Movies &amp; TV': 376041}</td>\n",
       "      <td>http://g-ecx.images-amazon.com/images/G/01/x-s...</td>\n",
       "      <td>[['Movies &amp; TV', 'Movies']]</td>\n",
       "      <td>Everyday Italian (with Giada de Laurentiis), V...</td>\n",
       "      <td>3Pack DVD set - Italian Classics, Parties and ...</td>\n",
       "      <td>12.99</td>\n",
       "      <td>{'also_viewed': ['B0036FO6SI', 'B000KL8ODE', '...</td>\n",
       "      <td>NaN</td>\n",
       "    </tr>\n",
       "    <tr>\n",
       "      <th>2</th>\n",
       "      <td>2</td>\n",
       "      <td>0000037214</td>\n",
       "      <td>{'Clothing': 1233557}</td>\n",
       "      <td>http://ecx.images-amazon.com/images/I/31mCncNu...</td>\n",
       "      <td>[['Clothing, Shoes &amp; Jewelry', 'Girls'], ['Clo...</td>\n",
       "      <td>Purple Sequin Tiny Dancer Tutu Ballet Dance Fa...</td>\n",
       "      <td>NaN</td>\n",
       "      <td>6.99</td>\n",
       "      <td>{'also_viewed': ['B00JO8II76', 'B00DGN4R1Q', '...</td>\n",
       "      <td>Big Dreams</td>\n",
       "    </tr>\n",
       "    <tr>\n",
       "      <th>3</th>\n",
       "      <td>3</td>\n",
       "      <td>0000032069</td>\n",
       "      <td>NaN</td>\n",
       "      <td>http://ecx.images-amazon.com/images/I/51EzU6qu...</td>\n",
       "      <td>[['Sports &amp; Outdoors', 'Other Sports', 'Dance'...</td>\n",
       "      <td>Adult Ballet Tutu Cheetah Pink</td>\n",
       "      <td>NaN</td>\n",
       "      <td>7.89</td>\n",
       "      <td>{'also_bought': ['0000032050', 'B00D0DJAEG', '...</td>\n",
       "      <td>BubuBibi</td>\n",
       "    </tr>\n",
       "    <tr>\n",
       "      <th>4</th>\n",
       "      <td>4</td>\n",
       "      <td>0000031909</td>\n",
       "      <td>{'Toys &amp; Games': 201847}</td>\n",
       "      <td>http://ecx.images-amazon.com/images/I/41xBoP0F...</td>\n",
       "      <td>[['Sports &amp; Outdoors', 'Other Sports', 'Dance']]</td>\n",
       "      <td>Girls Ballet Tutu Neon Pink</td>\n",
       "      <td>High quality 3 layer ballet tutu. 12 inches in...</td>\n",
       "      <td>7.00</td>\n",
       "      <td>{'also_bought': ['B002BZX8Z6', 'B00JHONN1S', '...</td>\n",
       "      <td>Unknown</td>\n",
       "    </tr>\n",
       "  </tbody>\n",
       "</table>\n",
       "</div>"
      ],
      "text/plain": [
       "   Unnamed: 0        asin                 salesRank  \\\n",
       "0           0  0001048791        {'Books': 6334800}   \n",
       "1           1  0000143561   {'Movies & TV': 376041}   \n",
       "2           2  0000037214     {'Clothing': 1233557}   \n",
       "3           3  0000032069                       NaN   \n",
       "4           4  0000031909  {'Toys & Games': 201847}   \n",
       "\n",
       "                                               imUrl  \\\n",
       "0  http://ecx.images-amazon.com/images/I/51MKP0T4...   \n",
       "1  http://g-ecx.images-amazon.com/images/G/01/x-s...   \n",
       "2  http://ecx.images-amazon.com/images/I/31mCncNu...   \n",
       "3  http://ecx.images-amazon.com/images/I/51EzU6qu...   \n",
       "4  http://ecx.images-amazon.com/images/I/41xBoP0F...   \n",
       "\n",
       "                                          categories  \\\n",
       "0                                        [['Books']]   \n",
       "1                        [['Movies & TV', 'Movies']]   \n",
       "2  [['Clothing, Shoes & Jewelry', 'Girls'], ['Clo...   \n",
       "3  [['Sports & Outdoors', 'Other Sports', 'Dance'...   \n",
       "4   [['Sports & Outdoors', 'Other Sports', 'Dance']]   \n",
       "\n",
       "                                               title  \\\n",
       "0  The Crucible: Performed by Stuart Pankin, Jero...   \n",
       "1  Everyday Italian (with Giada de Laurentiis), V...   \n",
       "2  Purple Sequin Tiny Dancer Tutu Ballet Dance Fa...   \n",
       "3                     Adult Ballet Tutu Cheetah Pink   \n",
       "4                        Girls Ballet Tutu Neon Pink   \n",
       "\n",
       "                                         description  price  \\\n",
       "0                                                NaN    NaN   \n",
       "1  3Pack DVD set - Italian Classics, Parties and ...  12.99   \n",
       "2                                                NaN   6.99   \n",
       "3                                                NaN   7.89   \n",
       "4  High quality 3 layer ballet tutu. 12 inches in...   7.00   \n",
       "\n",
       "                                             related       brand  \n",
       "0                                                NaN         NaN  \n",
       "1  {'also_viewed': ['B0036FO6SI', 'B000KL8ODE', '...         NaN  \n",
       "2  {'also_viewed': ['B00JO8II76', 'B00DGN4R1Q', '...  Big Dreams  \n",
       "3  {'also_bought': ['0000032050', 'B00D0DJAEG', '...    BubuBibi  \n",
       "4  {'also_bought': ['B002BZX8Z6', 'B00JHONN1S', '...     Unknown  "
      ]
     },
     "execution_count": 20,
     "metadata": {},
     "output_type": "execute_result"
    }
   ],
   "source": [
    "meta.head()"
   ]
  },
  {
   "cell_type": "code",
   "execution_count": 10,
   "metadata": {},
   "outputs": [],
   "source": [
    "# Random Sample Using Python Pandas read_csv option skiprows. Read About 10% of Cases\n",
    "\n",
    "import pandas as pd\n",
    "import random\n",
    "\n",
    "train = pd.read_csv('/Users/abc/Desktop/Takeaway.com/Raw dataset/metadata.csv', skiprows = lambda i: random.random() > 0.05)"
   ]
  },
  {
   "cell_type": "code",
   "execution_count": 3,
   "metadata": {},
   "outputs": [
    {
     "data": {
      "text/plain": [
       "(470718, 10)"
      ]
     },
     "execution_count": 3,
     "metadata": {},
     "output_type": "execute_result"
    }
   ],
   "source": [
    "train.shape"
   ]
  },
  {
   "cell_type": "code",
   "execution_count": 4,
   "metadata": {},
   "outputs": [],
   "source": [
    "train.to_csv('/Users/abc/Desktop/Takeaway.com/Downsized dataset/metadata_sampling5%.csv', index=False, header=True)"
   ]
  },
  {
   "cell_type": "code",
   "execution_count": null,
   "metadata": {},
   "outputs": [],
   "source": []
  }
 ],
 "metadata": {
  "kernelspec": {
   "display_name": "Python 3",
   "language": "python",
   "name": "python3"
  },
  "language_info": {
   "codemirror_mode": {
    "name": "ipython",
    "version": 3
   },
   "file_extension": ".py",
   "mimetype": "text/x-python",
   "name": "python",
   "nbconvert_exporter": "python",
   "pygments_lexer": "ipython3",
   "version": "3.6.5"
  }
 },
 "nbformat": 4,
 "nbformat_minor": 4
}
